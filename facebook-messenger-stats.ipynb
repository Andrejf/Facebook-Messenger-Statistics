{
 "cells": [
  {
   "cell_type": "markdown",
   "metadata": {},
   "source": [
    "# Facebook Messenger Stats!"
   ]
  },
  {
   "cell_type": "code",
   "execution_count": null,
   "metadata": {},
   "outputs": [],
   "source": [
    "%matplotlib inline\n",
    "\n",
    "import JSON_message_parser, os, stats\n",
    "import datetime\n",
    "\n",
    "#create path for csv files to be saved\n",
    "if not os.path.exists('.\\\\csv files'):\n",
    "\tos.mkdir('.\\\\csv files\\\\')"
   ]
  },
  {
   "cell_type": "markdown",
   "metadata": {},
   "source": [
    "**Parse all your data into a dict to be manipulated**\n",
    "\n",
    "This may take a while!"
   ]
  },
  {
   "cell_type": "code",
   "execution_count": null,
   "metadata": {},
   "outputs": [],
   "source": [
    "chat_dict, totals = JSON_message_parser.parse()\n",
    "stats.setTotals(totals)"
   ]
  },
  {
   "cell_type": "markdown",
   "metadata": {},
   "source": [
    "# Who do you talk to most?\n",
    "\n",
    "First, let's find your chats with the most messages!\n",
    "getMostMessaged takes 2 arguments: dict of your chats and how many chats to display"
   ]
  },
  {
   "cell_type": "code",
   "execution_count": null,
   "metadata": {},
   "outputs": [],
   "source": [
    "num_chats = 10 #how many chats to show? top num_chats will be displayed\n",
    "\n",
    "df_most_messaged = stats.getMostMessaged(chat_dict, num_chats)\n",
    "most_active_chats = df_most_messaged['chat']\n",
    "\n",
    "df_most_messaged"
   ]
  },
  {
   "cell_type": "markdown",
   "metadata": {},
   "source": [
    "Now let's plot this data:"
   ]
  },
  {
   "cell_type": "code",
   "execution_count": null,
   "metadata": {},
   "outputs": [],
   "source": [
    "x = 'chat'\n",
    "y = 'number of messages' #or plot '% of total messages'\n",
    "data = df_most_messaged\n",
    "plot_title = 'Most messaged users'\n",
    "stats.plot(x,y, data, plot_title)"
   ]
  },
  {
   "cell_type": "markdown",
   "metadata": {},
   "source": [
    "Of the people you talk to most, who sends the longest messages? (including all participants of top group chats)\n",
    "\n",
    "Let's see who sends the most **words** per message:"
   ]
  },
  {
   "cell_type": "code",
   "execution_count": null,
   "metadata": {},
   "outputs": [],
   "source": [
    "df_lengthiest_sender = stats.getAverageMessageLength(chat_dict, len(most_active_chats), most_active_chats, typeLen='words')\n",
    "\n",
    "stats.plot('sender', 'average message length', df_lengthiest_sender, 'Average message length (words)')\n",
    "df_lengthiest_sender\n"
   ]
  },
  {
   "cell_type": "markdown",
   "metadata": {},
   "source": [
    "What about most **characters** per message?"
   ]
  },
  {
   "cell_type": "code",
   "execution_count": null,
   "metadata": {},
   "outputs": [],
   "source": [
    "df_lengthiest_sender = stats.getAverageMessageLength(chat_dict, len(most_active_chats), most_active_chats, typeLen='chars')\n",
    "\n",
    "stats.plot('sender', 'average message length', df_lengthiest_sender, 'Longest average message length (characters)')\n",
    "df_lengthiest_sender"
   ]
  },
  {
   "cell_type": "markdown",
   "metadata": {},
   "source": [
    "# Are your chats balanced?\n",
    "\n",
    "Are your most active chats 50/50? or are you sending more messages than you're receiving?\n",
    "Who's leaving you on 'read'?"
   ]
  },
  {
   "cell_type": "code",
   "execution_count": null,
   "metadata": {},
   "outputs": [],
   "source": [
    "df_imbalance = stats.chatImbalance(chat_dict, most_active_chats)\n",
    "\n",
    "stats.plot('chat', '% of messages were received', df_imbalance, 'Chat Imbalance')\n",
    "df_imbalance"
   ]
  },
  {
   "cell_type": "markdown",
   "metadata": {},
   "source": [
    "# When are you procrastinating the most?\n",
    "\n",
    "Now let's look at your most active times on Facebook Messenger: \n",
    "\n",
    "We can compare most active time, minute, hour, day, month, or year using stats.getMostActiveTime\n",
    "\n",
    "However, the most active minute, day and time are usually boring and uniform.\n"
   ]
  },
  {
   "cell_type": "code",
   "execution_count": null,
   "metadata": {},
   "outputs": [],
   "source": [
    "#stats.getMostActiveTime takes arguments: chat dictionary, number of items to display ('max' to display all), type of time\n",
    "\n",
    "#displays most active hours\n",
    "df_hour = stats.getMostActiveTime(chat_dict, 'max', \"hour\")\n",
    "df_hour = df_hour.sort_values('hour', ascending=True)\n",
    "\n",
    "#displays most active year\n",
    "df_year = stats.getMostActiveTime(chat_dict,'max', \"year\")\n",
    "df_year = df_year.sort_values('year', ascending=True)\n",
    "\n",
    "#displays most active months\n",
    "df_month = stats.getMostActiveTime(chat_dict, 'max', \"month\")\n",
    "months = {datetime.datetime(2000,i,1).strftime(\"%B\"): i for i in range(1, 13)}\n",
    "df_month[\"month_number\"] = df_month[\"month\"].map(months)\n",
    "df_month = df_month.sort_values('month_number', ascending=True)\n",
    "\n",
    "stats.plot('hour','number of messages', df_hour, 'Most active hour')\n",
    "stats.plot('month','number of messages', df_month, 'Most active month')\n",
    "stats.plot('year','number of messages', df_year, 'Most active year')"
   ]
  },
  {
   "cell_type": "markdown",
   "metadata": {},
   "source": [
    "# What are you sending to people?\n",
    "\n",
    "What are your most sent words? Let's find out:\n"
   ]
  },
  {
   "cell_type": "code",
   "execution_count": null,
   "metadata": {
    "scrolled": true
   },
   "outputs": [],
   "source": [
    "top_words = 5 #how many words to display (i.e. topNum = 10 displays top 10 words)\n",
    "chars = 6 #the minimum length of the words, single letter words are boring!\n",
    "sender = 'ANY_SENDER' #can use any name to find the most used words from a certain sender. or 'ANY_SENDER' for any sender\n",
    "\n",
    "df_words = stats.getMostUsedWords(chat_dict, top_words, sender, chars)\n",
    "df_words\n",
    "\n"
   ]
  },
  {
   "cell_type": "markdown",
   "metadata": {},
   "source": [
    "# How are you communicating?\n",
    "\n",
    "See your breakdown between text, image, video and stickers!"
   ]
  },
  {
   "cell_type": "code",
   "execution_count": null,
   "metadata": {},
   "outputs": [],
   "source": [
    "#can use any chat to find the types of messages from a certain chat. or 'ANY_CHAT' for any chat\n",
    "chat = 'ANY_CHAT'\n",
    "df_type = stats.typesOfMessages(chat_dict, chat) "
   ]
  },
  {
   "cell_type": "markdown",
   "metadata": {},
   "source": [
    "# Who are you in the most group chats with?"
   ]
  },
  {
   "cell_type": "code",
   "execution_count": null,
   "metadata": {},
   "outputs": [],
   "source": [
    "num_chats = 10 #how many people to show\n",
    "\n",
    "df_most_common = stats.inMostGroupChats(chat_dict, num_chats)\n",
    "df_most_common"
   ]
  },
  {
   "cell_type": "markdown",
   "metadata": {},
   "source": [
    "Let's visualize this!"
   ]
  },
  {
   "cell_type": "code",
   "execution_count": null,
   "metadata": {},
   "outputs": [],
   "source": [
    "stats.plot('participant','number of group chats', df_most_common, 'Most common group chat participant')"
   ]
  }
 ],
 "metadata": {
  "kernelspec": {
   "display_name": "Python 3",
   "language": "python",
   "name": "python3"
  },
  "language_info": {
   "codemirror_mode": {
    "name": "ipython",
    "version": 3
   },
   "file_extension": ".py",
   "mimetype": "text/x-python",
   "name": "python",
   "nbconvert_exporter": "python",
   "pygments_lexer": "ipython3",
   "version": "3.6.2"
  }
 },
 "nbformat": 4,
 "nbformat_minor": 2
}
