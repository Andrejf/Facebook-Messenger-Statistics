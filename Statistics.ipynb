{
 "cells": [
  {
   "cell_type": "markdown",
   "metadata": {},
   "source": [
    "# Facebook Messenger Statistics\n",
    "\n",
    "by [simonwongwong](https://github.com/simonwongwong/)"
   ]
  },
  {
   "cell_type": "code",
   "execution_count": null,
   "metadata": {},
   "outputs": [],
   "source": [
    "import loader\n",
    "import chatstat\n",
    "import matplotlib.pyplot as plt\n",
    "import os\n",
    "from IPython.display import display\n",
    "\n",
    "from IPython.core.display import HTML\n",
    "HTML(\"\"\"\n",
    "<style>\n",
    ".output_png {\n",
    "    display: table-cell;\n",
    "    text-align: center;\n",
    "    vertical-align: middle;\n",
    "}\n",
    "</style>\n",
    "\"\"\")"
   ]
  },
  {
   "cell_type": "markdown",
   "metadata": {},
   "source": [
    "# Load your chats\n",
    "use `load_from_csv(path)` if you have used this before and have saved your data in CSV format using `persist()`\n",
    "\n",
    "if your CSVs are in the current working directory (use `os.listdir()` to see if they are), `path` can be omitted.\n",
    "For more instructions go [here](https://github.com/simonwongwong/Facebook-Messenger-Statistics#how-to-use)"
   ]
  },
  {
   "cell_type": "code",
   "execution_count": null,
   "metadata": {},
   "outputs": [],
   "source": [
    "cs = chatstat.ChatStat(*loader.parse_from_json())"
   ]
  },
  {
   "cell_type": "markdown",
   "metadata": {},
   "source": [
    "# All time stats\n",
    "Here are some statistics using all available chat data"
   ]
  },
  {
   "cell_type": "code",
   "execution_count": null,
   "metadata": {
    "scrolled": false
   },
   "outputs": [],
   "source": [
    "fig, ax = plt.subplots(nrows=1, ncols=2, figsize=(15, 6))\n",
    "fig.suptitle(\"Who are you talking to?\", fontsize=20)\n",
    "cs.biggest_chat(top=10, ax=ax[0])\n",
    "cs.sent_from(cs.msg_df, top=5, omit_first=True, ax=ax[1]) # First value is usually your own. Set omit_first to True to omit rank 1 \n",
    "cs.chat_counts(top=10, omit_first=True)\n",
    "\n",
    "fig2, pieax = plt.subplots(nrows=1, ncols=2, figsize=(20, 10))\n",
    "fig2.suptitle(\"How are you talking to them? And what are you saying?\", fontsize=20)\n",
    "cs.msg_types(cs.msg_df, pieax[0])\n",
    "cs.chat_types(cs.msg_df, pieax[1])\n",
    "\n",
    "cs.word_counts(cs.msg_df, lengths=[1,3,5,6])\n",
    "cs.time_stats(cs.msg_df)\n",
    "\n"
   ]
  },
  {
   "cell_type": "markdown",
   "metadata": {},
   "source": [
    "# View stats by sender\n",
    "set `sender_name` to your own name to see stats based on all messages sent by you\n",
    "\n",
    "set `sender_name` to one of your friend's names to see stats based on all messages sent by them"
   ]
  },
  {
   "cell_type": "code",
   "execution_count": null,
   "metadata": {
    "scrolled": false
   },
   "outputs": [],
   "source": [
    "sender_name = \"Dilip Rathinakumar\"\n",
    "cs.personal_stats(sender_name)"
   ]
  },
  {
   "cell_type": "markdown",
   "metadata": {},
   "source": [
    "# View stats per chat\n",
    "\n",
    "set `chat_name` to the name/title of any chat or group chat to see stats about messages sent to that chat from all participants\n",
    "\n",
    "How balanced are your chats?"
   ]
  },
  {
   "cell_type": "code",
   "execution_count": null,
   "metadata": {
    "scrolled": false
   },
   "outputs": [],
   "source": [
    "chat_name = \"Shabab Ayub\"\n",
    "cs.stat_by_chat(chat_name)\n"
   ]
  }
 ],
 "metadata": {
  "kernelspec": {
   "display_name": "Python 3",
   "language": "python",
   "name": "python3"
  },
  "language_info": {
   "codemirror_mode": {
    "name": "ipython",
    "version": 3
   },
   "file_extension": ".py",
   "mimetype": "text/x-python",
   "name": "python",
   "nbconvert_exporter": "python",
   "pygments_lexer": "ipython3",
   "version": "3.7.0"
  }
 },
 "nbformat": 4,
 "nbformat_minor": 2
}
