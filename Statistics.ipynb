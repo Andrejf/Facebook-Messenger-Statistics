{
 "cells": [
  {
   "cell_type": "markdown",
   "metadata": {},
   "source": [
    "# Facebook Messenger Statistics\n",
    "\n",
    "by [simonwongwong](https://github.com/simonwongwong/)"
   ]
  },
  {
   "cell_type": "code",
   "execution_count": null,
   "metadata": {},
   "outputs": [],
   "source": [
    "import loader\n",
    "import chatstat\n",
    "import matplotlib.pyplot as plt\n",
    "import os\n",
    "from IPython.display import display\n",
    "\n",
    "from IPython.core.display import HTML\n",
    "HTML(\"\"\"\n",
    "<style>\n",
    ".output_png {\n",
    "    display: table-cell;\n",
    "    text-align: center;\n",
    "    vertical-align: middle;\n",
    "}\n",
    "</style>\n",
    "\"\"\")"
   ]
  },
  {
   "cell_type": "markdown",
   "metadata": {},
   "source": [
    "# Load your chats\n",
    "use `load_from_csv(path)` if you have used this before and have saved your data in CSV format using `persist()`\n",
    "if your CSVs are in the current working directory (use `os.listdir()` to see if they are), `path` can be omitted.\n",
    "For more instructions go [here](https://github.com/simonwongwong/Facebook-Messenger-Statistics/)"
   ]
  },
  {
   "cell_type": "code",
   "execution_count": null,
   "metadata": {},
   "outputs": [],
   "source": [
    "cs = chatstat.ChatStat(*loader.load_from_csv())\n",
    "c,m = loader.load_from_csv()\n"
   ]
  },
  {
   "cell_type": "markdown",
   "metadata": {},
   "source": [
    "# All time stats\n",
    "Here are some statistics using all available chat data"
   ]
  },
  {
   "cell_type": "code",
   "execution_count": null,
   "metadata": {
    "scrolled": false
   },
   "outputs": [],
   "source": [
    "cs.biggest_chat()\n",
    "cs.sent_from(cs.msg_df, 5, omit_first=True) # First value is usually your own. Set omit_first to True to omit rank 1 \n",
    "cs.word_counts(cs.msg_df, lengths=[1,3,5,6])\n",
    "cs.msg_types(cs.msg_df)\n",
    "cs.time_stats(cs.msg_df)"
   ]
  },
  {
   "cell_type": "markdown",
   "metadata": {},
   "source": [
    "# View stats by sender\n",
    "set `sender_name` to your own name to see stats based on all messages sent by you\n",
    "\n",
    "set `sender_name` to one of your friend's names to see stats based on all messages sent by them"
   ]
  },
  {
   "cell_type": "code",
   "execution_count": null,
   "metadata": {
    "scrolled": false
   },
   "outputs": [],
   "source": [
    "sender_name = \"Simon Wong\"\n",
    "cs.personal_stats(sender_name)"
   ]
  },
  {
   "cell_type": "markdown",
   "metadata": {},
   "source": [
    "# View stats per chat\n",
    "\n",
    "set `chat_name` to the name/title of any chat or group chat to see stats about messages sent to that chat from all participants"
   ]
  },
  {
   "cell_type": "code",
   "execution_count": null,
   "metadata": {
    "scrolled": false
   },
   "outputs": [],
   "source": [
    "chat_name = \"gudetama\"\n",
    "cs.stat_by_chat(\"gudetama\")\n"
   ]
  },
  {
   "cell_type": "code",
   "execution_count": null,
   "metadata": {},
   "outputs": [],
   "source": [
    "# from importlib import reload\n",
    "# reload(chatstat)\n",
    "# cs = chatstat.ChatStat(c,m)"
   ]
  },
  {
   "cell_type": "code",
   "execution_count": null,
   "metadata": {
    "scrolled": false
   },
   "outputs": [],
   "source": []
  }
 ],
 "metadata": {
  "kernelspec": {
   "display_name": "Python 3",
   "language": "python",
   "name": "python3"
  },
  "language_info": {
   "codemirror_mode": {
    "name": "ipython",
    "version": 3
   },
   "file_extension": ".py",
   "mimetype": "text/x-python",
   "name": "python",
   "nbconvert_exporter": "python",
   "pygments_lexer": "ipython3",
   "version": "3.7.0"
  }
 },
 "nbformat": 4,
 "nbformat_minor": 2
}
